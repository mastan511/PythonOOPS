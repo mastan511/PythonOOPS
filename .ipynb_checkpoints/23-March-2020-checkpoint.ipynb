{
 "cells": [
  {
   "cell_type": "markdown",
   "metadata": {},
   "source": [
    "### Constructor\n",
    "- The name should be always : __init__()\n",
    "- Whenever we are creating object constructor will be excuted automatically and we are not required to call explicitly.\n",
    "- The Main objective : To declare and initialize varibles\n",
    "- For every Object constructor will be excuted only once.\n",
    "- atleast one argument i.e self\n",
    "- Python will provide default constructor if we are not writing any constructor."
   ]
  },
  {
   "cell_type": "code",
   "execution_count": 6,
   "metadata": {},
   "outputs": [
    {
     "name": "stdout",
     "output_type": "stream",
     "text": [
      "Constructor excution\n",
      "Constructor excution\n",
      "Constructor excution\n"
     ]
    }
   ],
   "source": [
    "#For every object constructor will excute automaticallyy\n",
    "class Test:\n",
    "    def __init__(self):\n",
    "        print('Constructor excution')\n",
    "        self.x = 10\n",
    "        self.y=20\n",
    "        \n",
    "t = Test()\n",
    "t1 = Test()\n",
    "t3 = Test()"
   ]
  },
  {
   "cell_type": "markdown",
   "metadata": {},
   "source": [
    "### Overloading and Overriding:\n",
    "\n",
    "- These concepts are not available in python\n"
   ]
  },
  {
   "cell_type": "code",
   "execution_count": 11,
   "metadata": {},
   "outputs": [
    {
     "ename": "TypeError",
     "evalue": "__init__() missing 1 required positional argument: 'x'",
     "output_type": "error",
     "traceback": [
      "\u001b[1;31m---------------------------------------------------------------------------\u001b[0m",
      "\u001b[1;31mTypeError\u001b[0m                                 Traceback (most recent call last)",
      "\u001b[1;32m<ipython-input-11-96fc4d36772d>\u001b[0m in \u001b[0;36m<module>\u001b[1;34m\u001b[0m\n\u001b[0;32m      8\u001b[0m         \u001b[0mprint\u001b[0m\u001b[1;33m(\u001b[0m\u001b[1;34m'one-arg'\u001b[0m\u001b[1;33m)\u001b[0m\u001b[1;33m\u001b[0m\u001b[1;33m\u001b[0m\u001b[0m\n\u001b[0;32m      9\u001b[0m \u001b[1;33m\u001b[0m\u001b[0m\n\u001b[1;32m---> 10\u001b[1;33m \u001b[0mt1\u001b[0m \u001b[1;33m=\u001b[0m \u001b[0mOverloaded\u001b[0m\u001b[1;33m(\u001b[0m\u001b[1;33m)\u001b[0m\u001b[1;33m\u001b[0m\u001b[1;33m\u001b[0m\u001b[0m\n\u001b[0m\u001b[0;32m     11\u001b[0m \u001b[0mt2\u001b[0m \u001b[1;33m=\u001b[0m \u001b[0mOverloaded\u001b[0m\u001b[1;33m(\u001b[0m\u001b[1;36m10\u001b[0m\u001b[1;33m)\u001b[0m\u001b[1;33m\u001b[0m\u001b[1;33m\u001b[0m\u001b[0m\n",
      "\u001b[1;31mTypeError\u001b[0m: __init__() missing 1 required positional argument: 'x'"
     ]
    }
   ],
   "source": [
    "#Overloaded Constructors\n",
    "#Same method names with different parametrs\n",
    "class Overloaded:\n",
    "    def __init__(self):\n",
    "        print('no-arg')\n",
    "        \n",
    "    def __init__(self,x):\n",
    "        print('one-arg')\n",
    "        \n",
    "t1 = Overloaded()\n",
    "t2 = Overloaded(10)"
   ]
  },
  {
   "cell_type": "code",
   "execution_count": 16,
   "metadata": {},
   "outputs": [
    {
     "name": "stdout",
     "output_type": "stream",
     "text": [
      "Constructor Excution...\n",
      "Method excution...\n",
      "Hello Myself is  Mastan\n",
      "My rollno is: 100\n"
     ]
    }
   ],
   "source": [
    "class Student:\n",
    "    def __init__(self,name,rollno):\n",
    "        print('Constructor Excution...')\n",
    "        self.name=name\n",
    "        self.rollno = rollno\n",
    "        \n",
    "    def display(self):\n",
    "        print('Method excution...')\n",
    "        print('Hello Myself is ',self.name)\n",
    "        print('My rollno is:',self.rollno)\n",
    "        \n",
    "s = Student(\"Mastan\",100)\n",
    "s.display()"
   ]
  },
  {
   "cell_type": "markdown",
   "metadata": {},
   "source": [
    "### Method:\n",
    "- The name can be any thing\n",
    "- Method will be excuted if we call\n",
    "- Per objcet method can be called n number of times\n",
    "- Business logic \n",
    "\n",
    "### Constructor:\n",
    "- Should be __intit__()\n",
    "- Will be excuted automaticallyy if we are creating object\n",
    "- per object only once\n",
    "- To declare and initialize instance varibles\n"
   ]
  },
  {
   "cell_type": "markdown",
   "metadata": {},
   "source": [
    "- Inside Python class 3 types of varibles are available:\n",
    "\n",
    "    - Instance variable/Object level varibles\n",
    "    def:varible value varied from object to object\n",
    "    - Static Varible/Class level Varibles\n",
    "    def:\n",
    "    - Local Varibles/Method Varibles\n",
    "- Inside the Python class 3 methods are available:\n",
    "\n",
    "    - Instance methods/Object Related methods <br>\n",
    "    def:The methods where we are using intsance varibles\n",
    "    - Class methods <br>\n",
    "    def:cls(current class level) == class <br>\n",
    "    @classmethod\n",
    "    Ex: def getCollegeName(cls):\n",
    "            print('College Name',cls.cname)\n",
    "    - Static methods/General utility methods"
   ]
  },
  {
   "cell_type": "code",
   "execution_count": 23,
   "metadata": {},
   "outputs": [],
   "source": [
    "# - Instance variable/Object level varibles\n",
    "#     def:varible value varied from object to object\n",
    "#The varible which are declaring with 'self' is known as a Instance variable\n",
    "class Student1:\n",
    "    def __init__(self,name,rollno):\n",
    "        self.name=name\n",
    "        self.rollno = rollno\n",
    "        \n",
    "    def display(self):\n",
    "        print('Method excution...')\n",
    "        print('Hello Myself is ',self.name)\n",
    "        print('My rollno is:',self.rollno)\n",
    "        \n",
    "        \n",
    "s1 = Student1('Mastan',100)\n",
    "s2 = Student1('Pavan',200)\n",
    "s3 = Student1('Lokesh',300)\n",
    "\n"
   ]
  },
  {
   "cell_type": "code",
   "execution_count": 24,
   "metadata": {},
   "outputs": [],
   "source": [
    "# - Static Varible\n",
    "#     def:\n",
    "#it will be shared for every Object is known as Static varibles\n",
    "#Ex:All students are belongs to one college so college name(cname) is \n",
    "#Static varible\n",
    "class Student1:\n",
    "    cname = 'Lenora'\n",
    "    def __init__(self,name,rollno):\n",
    "        self.name=name\n",
    "        self.rollno = rollno\n",
    "        \n",
    "    def display(self):\n",
    "        print('Method excution...')\n",
    "        print('Hello Myself is ',self.name)\n",
    "        print('My rollno is:',self.rollno)\n",
    "        \n",
    "        \n",
    "s1 = Student1('Mastan',100)\n",
    "s2 = Student1('Pavan',200)\n",
    "s3 = Student1('Lokesh',300)\n"
   ]
  },
  {
   "cell_type": "code",
   "execution_count": 25,
   "metadata": {},
   "outputs": [],
   "source": [
    "# - Local Varibles\n",
    "# Which can be declared with in the method is known as local varibles\n",
    "# Ex:count,x\n",
    "class Student1:\n",
    "    cname = 'Lenora'\n",
    "    def __init__(self,name,rollno):\n",
    "        count = 0\n",
    "        self.name=name\n",
    "        self.rollno = rollno\n",
    "        \n",
    "    def display(self):\n",
    "        x = 10\n",
    "        print('Method excution...')\n",
    "        print('Hello Myself is ',self.name)\n",
    "        print('My rollno is:',self.rollno)\n",
    "        \n",
    "        \n",
    "s1 = Student1('Mastan',100)\n",
    "s2 = Student1('Pavan',200)\n",
    "s3 = Student1('Lokesh',300)"
   ]
  },
  {
   "cell_type": "code",
   "execution_count": 26,
   "metadata": {},
   "outputs": [
    {
     "name": "stdout",
     "output_type": "stream",
     "text": [
      "College Name: Lenora\n"
     ]
    }
   ],
   "source": [
    "# Class methods\n",
    "class Student1:\n",
    "    cname = 'Lenora'\n",
    "    def __init__(self,name,rollno):\n",
    "        count = 0\n",
    "        self.name=name\n",
    "        self.rollno = rollno\n",
    "        \n",
    "    def display(self):\n",
    "        x = 10\n",
    "        print('Method excution...')\n",
    "        print('Hello Myself is ',self.name)\n",
    "        print('My rollno is:',self.rollno)\n",
    "        \n",
    "    @classmethod    \n",
    "    def getCollegename(cls):\n",
    "        print('College Name:',cls.cname)\n",
    "        \n",
    "        \n",
    "s1 = Student1('Mastan',100)\n",
    "s2 = Student1('Pavan',200)\n",
    "s3 = Student1('Lokesh',300)\n",
    "Student1.getCollegename()"
   ]
  },
  {
   "cell_type": "code",
   "execution_count": 31,
   "metadata": {},
   "outputs": [
    {
     "name": "stdout",
     "output_type": "stream",
     "text": [
      "College Name: Lenora\n",
      "Average: 15.0\n"
     ]
    }
   ],
   "source": [
    "# - Static methods\n",
    "class Student1:\n",
    "    cname = 'Lenora'\n",
    "    def __init__(self,name,rollno):\n",
    "        count = 0\n",
    "        self.name=name\n",
    "        self.rollno = rollno\n",
    "        \n",
    "    def display(self):\n",
    "        x = 10\n",
    "        print('Method excution...')\n",
    "        print('Hello Myself is ',self.name)\n",
    "        print('My rollno is:',self.rollno)\n",
    "        \n",
    "    @classmethod    \n",
    "    def getCollegename(cls):\n",
    "        print('College Name:',cls.cname)\n",
    "    \n",
    "    @staticmethod\n",
    "    def findAverage(x,y):\n",
    "        print('Average:',(x+y)/2)\n",
    "        \n",
    "        \n",
    "s1 = Student1('Mastan',100)\n",
    "s2 = Student1('Pavan',200)\n",
    "s3 = Student1('Lokesh',300)\n",
    "Student1.getCollegename()\n",
    "s1.findAverage(10,20)\n"
   ]
  },
  {
   "cell_type": "markdown",
   "metadata": {},
   "source": [
    "1.Instance Varible\n",
    "    - If the value of a variable is varied from object to object such type of varibles for every object a seperate copy will be created.\n",
    "    \n",
    "Where we have to declare instance variables:\n",
    "----------------------------------------------------\n",
    "- Inside Constructor by using self \n",
    "- Inside instance method by using self\n",
    "- From out side of the class by using object reference\n",
    "\n",
    "How to access instance varibles:\n",
    "--------------------------------\n",
    "- with in the class by using self\n",
    "- from outside of the class by using object reference\n",
    "\n",
    "How to delete instance varibles:\n",
    "--------------------------------\n",
    "\n",
    "with in the class\n",
    "- del self.variblename\n",
    "<br>\n",
    "out side of the class\n",
    "- del objectrefrence.variblename"
   ]
  },
  {
   "cell_type": "code",
   "execution_count": 5,
   "metadata": {},
   "outputs": [
    {
     "name": "stdout",
     "output_type": "stream",
     "text": [
      "{'name': 'Mastan', 'rollno': 101, 'marks': 60, 'age': 24}\n",
      "{'name': 'mastan', 'rollno': 102, 'sal': 200000}\n"
     ]
    }
   ],
   "source": [
    "class Student:\n",
    "    def __init__(self,name,rollno):\n",
    "        self.name = name\n",
    "        self.rollno = rollno\n",
    "    def info(self):\n",
    "        self.marks = 60\n",
    "s1 = Student('Mastan',101)\n",
    "s1.info()\n",
    "s1.age = 24\n",
    "s2 = Student('mastan',102)\n",
    "s2.sal = 200000\n",
    "#If you want to know the how many instance variables are availabe\n",
    "print(s1.__dict__)\n",
    "print(s2.__dict__)"
   ]
  },
  {
   "cell_type": "code",
   "execution_count": null,
   "metadata": {},
   "outputs": [],
   "source": []
  }
 ],
 "metadata": {
  "kernelspec": {
   "display_name": "Python 3",
   "language": "python",
   "name": "python3"
  },
  "language_info": {
   "codemirror_mode": {
    "name": "ipython",
    "version": 3
   },
   "file_extension": ".py",
   "mimetype": "text/x-python",
   "name": "python",
   "nbconvert_exporter": "python",
   "pygments_lexer": "ipython3",
   "version": "3.7.3"
  }
 },
 "nbformat": 4,
 "nbformat_minor": 2
}
