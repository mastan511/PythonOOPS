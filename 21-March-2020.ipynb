{
 "cells": [
  {
   "cell_type": "markdown",
   "metadata": {},
   "source": [
    "#### OOPS in Python\n",
    "- Object Oriented Programmining\n",
    "- Class(Blue Print)\n",
    "- Object\n",
    "- Reference Varible"
   ]
  },
  {
   "cell_type": "markdown",
   "metadata": {},
   "source": [
    "- Class:\n",
    "    - Plan or architecture or blue print is nothing but a class\n",
    "    - Plan is always is on the paper\n",
    "    - class is always talks about required propertys or attributes of a Object\n",
    "- Object\n",
    "    - The Physical existance of a class is nothing but object\n",
    "    - a Physical instance of a class is nothing but object\n",
    "    - once plan is ready we can create a multiple physical objects\n",
    "    - once class is ready multiple objects we can create"
   ]
  },
  {
   "cell_type": "code",
   "execution_count": 6,
   "metadata": {},
   "outputs": [
    {
     "name": "stdout",
     "output_type": "stream",
     "text": [
      "Sunny\n",
      "100\n",
      "Hello My name is : Sunny\n",
      "My rollno is: 100\n",
      "Hello My name is : Bunny\n",
      "My rollno is: 200\n",
      "Hello My name is : chinny\n",
      "My rollno is: 300\n"
     ]
    }
   ],
   "source": [
    "class Student:\n",
    "    ''' This class developed by mastan for Demo purpose'''\n",
    "    \n",
    "    def __init__(self,rollno,name):\n",
    "        self.rollno=rollno\n",
    "        self.name=name\n",
    "        \n",
    "    def talk(self):\n",
    "        print(\"Hello My name is :\",self.name)\n",
    "        print(\"My rollno is:\",self.rollno)\n",
    "        \n",
    "s = Student(100,'Sunny')\n",
    "print(s.name)\n",
    "print(s.rollno)\n",
    "s.talk()\n",
    "s1 = Student(200,\"Bunny\")\n",
    "s1.talk()\n",
    "\n",
    "s2 = Student(300,\"chinny\")\n",
    "s2.talk()\n",
    "        \n",
    "        \n"
   ]
  },
  {
   "cell_type": "code",
   "execution_count": 17,
   "metadata": {},
   "outputs": [
    {
     "name": "stdout",
     "output_type": "stream",
     "text": [
      "This is Doc String Descrption your class\n",
      "********************\n",
      "Employee Number : 100\n",
      "Employee Name: mastan\n",
      "Employee Salary: 50000\n",
      "Employee Address: Aspari\n",
      "********************\n",
      "********************\n",
      "Employee Number : 200\n",
      "Employee Name: Vali\n",
      "Employee Salary: 50000\n",
      "Employee Address: Adoni\n",
      "********************\n"
     ]
    }
   ],
   "source": [
    "class Employee:\n",
    "    '''This is Doc String Descrption your class'''\n",
    "    def __init__(self,eno,ename,esal,eaddr):\n",
    "        self.eno=eno\n",
    "        self.ename=ename\n",
    "        self.esal=esal\n",
    "        self.eaddr=eaddr\n",
    "    def info(self):\n",
    "        print('*'*20)\n",
    "        print('Employee Number :',self.eno)\n",
    "        print('Employee Name:',self.ename)\n",
    "        print('Employee Salary:',self.esal)\n",
    "        print('Employee Address:',self.eaddr)\n",
    "        print('*'*20)\n",
    "        \n",
    "        \n",
    "e1 = Employee(100,'mastan',50000,\"Aspari\")\n",
    "e2 = Employee(200,'Vali',50000,\"Adoni\")\n",
    "e1.info()\n",
    "e2.info()"
   ]
  },
  {
   "cell_type": "code",
   "execution_count": 19,
   "metadata": {},
   "outputs": [
    {
     "name": "stdout",
     "output_type": "stream",
     "text": [
      "This is Doc String Descrption your class\n",
      "Help on class Employee in module __main__:\n",
      "\n",
      "class Employee(builtins.object)\n",
      " |  Employee(eno, ename, esal, eaddr)\n",
      " |  \n",
      " |  This is Doc String Descrption your class\n",
      " |  \n",
      " |  Methods defined here:\n",
      " |  \n",
      " |  __init__(self, eno, ename, esal, eaddr)\n",
      " |      Initialize self.  See help(type(self)) for accurate signature.\n",
      " |  \n",
      " |  info(self)\n",
      " |  \n",
      " |  ----------------------------------------------------------------------\n",
      " |  Data descriptors defined here:\n",
      " |  \n",
      " |  __dict__\n",
      " |      dictionary for instance variables (if defined)\n",
      " |  \n",
      " |  __weakref__\n",
      " |      list of weak references to the object (if defined)\n",
      "\n"
     ]
    }
   ],
   "source": [
    "print(Employee.__doc__)\n",
    "help(Employee)"
   ]
  },
  {
   "cell_type": "markdown",
   "metadata": {},
   "source": [
    "#### Self Varible\n",
    "- It(self) works like this key word in java\n",
    "- Self is a refrence variable which is always pointing to current object.\n",
    "- within the python class to refer current object we should use self variable\n",
    "- The first argument to the constructor and instance method should be self.\n",
    "- PVM is responsible to provide value for self argument and we are not required to provide explicitly.\n",
    "- By using self we can declare instance varibles\n",
    "- By using self we can access instance varibles\n",
    "- Instead of self we can use any name...but recommended to use self."
   ]
  },
  {
   "cell_type": "code",
   "execution_count": 20,
   "metadata": {},
   "outputs": [
    {
     "name": "stdout",
     "output_type": "stream",
     "text": [
      "2213124005336\n",
      "2213124005336\n"
     ]
    }
   ],
   "source": [
    "class Student:\n",
    "    '''This ffjfgjg'''\n",
    "    #Constructor\n",
    "    def __init__(self):\n",
    "        print(id(self))\n",
    "#Here we are having one Object and two refrence Varibles\n",
    "s = Student()\n",
    "print(id(s))\n",
    "s2 = Student()\n",
    "        "
   ]
  },
  {
   "cell_type": "markdown",
   "metadata": {},
   "source": [
    "### Constructor\n",
    "- The name should be always : __init__()\n",
    "- Whenever we are creating object constructor will be excuted automatically and we are not required to call explicitly.\n",
    "- The Main objective : To declare and initialize varibles\n",
    "- For every Object constructor will be excuted only once.\n",
    "- "
   ]
  },
  {
   "cell_type": "code",
   "execution_count": null,
   "metadata": {},
   "outputs": [],
   "source": []
  }
 ],
 "metadata": {
  "kernelspec": {
   "display_name": "Python 3",
   "language": "python",
   "name": "python3"
  },
  "language_info": {
   "codemirror_mode": {
    "name": "ipython",
    "version": 3
   },
   "file_extension": ".py",
   "mimetype": "text/x-python",
   "name": "python",
   "nbconvert_exporter": "python",
   "pygments_lexer": "ipython3",
   "version": "3.7.3"
  }
 },
 "nbformat": 4,
 "nbformat_minor": 2
}
